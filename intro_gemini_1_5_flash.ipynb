{
  "cells": [
    {
      "cell_type": "code",
      "execution_count": 2,
      "metadata": {
        "id": "bCIMTPB1WoTq"
      },
      "outputs": [],
      "source": [
        "# Copyright 2024 Wookjae\n",
        "#\n",
        "# Licensed under the Apache License, Version 2.0 (the \"License\");\n",
        "# you may not use this file except in compliance with the License.\n",
        "# You may obtain a copy of the License at\n",
        "#\n",
        "#     https://www.apache.org/licenses/LICENSE-2.0\n",
        "#\n",
        "# Unless required by applicable law or agreed to in writing, software\n",
        "# distributed under the License is distributed on an \"AS IS\" BASIS,\n",
        "# WITHOUT WARRANTIES OR CONDITIONS OF ANY KIND, either express or implied.\n",
        "# See the License for the specific language governing permissions and\n",
        "# limitations under the License."
      ]
    },
    {
      "cell_type": "markdown",
      "metadata": {
        "id": "7yVV6txOmNMn"
      },
      "source": [
        "# Vertex AI Gemini 1.5 Flash 비용 계산하기\n",
        "\n",
        "\n",
        "<table align=\"left\">\n",
        "  <td style=\"text-align: center\">\n",
        "    <a href=\"https://console.cloud.google.com/vertex-ai/colab/import/https:%2F%2Fraw.githubusercontent.com%2FGoogleCloudPlatform%2Fgenerative-ai%2Fmain%2Fgemini%2Fgetting-started%2Fintro_gemini_1_5_flash.ipynb\">\n",
        "      <img width=\"32px\" src=\"https://lh3.googleusercontent.com/JmcxdQi-qOpctIvWKgPtrzZdJJK-J3sWE1RsfjZNwshCFgE_9fULcNpuXYTilIR2hjwN\" alt=\"Google Cloud Colab Enterprise logo\"><br> Open in Colab Enterprise\n",
        "    </a>\n",
        "  </td>    \n",
        "  <td style=\"text-align: center\">\n",
        "    <a href=\"https://console.cloud.google.com/vertex-ai/workbench/deploy-notebook?download_url=https://raw.githubusercontent.com/GoogleCloudPlatform/generative-ai/main/gemini/getting-started/intro_gemini_1_5_flash.ipynb\">\n",
        "      <img src=\"https://lh3.googleusercontent.com/UiNooY4LUgW_oTvpsNhPpQzsstV5W8F7rYgxgGBD85cWJoLmrOzhVs_ksK_vgx40SHs7jCqkTkCk=e14-rj-sc0xffffff-h130-w32\" alt=\"Vertex AI logo\"><br> Open in Workbench\n",
        "    </a>\n",
        "  </td>\n",
        "</table>\n",
        "\n",
        "<div style=\"clear: both;\"></div>\n",
        "\n",
        "<b>Share to:</b>\n",
        "\n",
        "<a href=\"https://www.linkedin.com/sharing/share-offsite/?url=https%3A//github.com/GoogleCloudPlatform/generative-ai/blob/main/gemini/getting-started/intro_gemini_1_5_flash.ipynb\" target=\"_blank\">\n",
        "  <img width=\"20px\" src=\"https://upload.wikimedia.org/wikipedia/commons/8/81/LinkedIn_icon.svg\" alt=\"LinkedIn logo\">\n",
        "</a>\n",
        "\n",
        "<a href=\"https://bsky.app/intent/compose?text=https%3A//github.com/GoogleCloudPlatform/generative-ai/blob/main/gemini/getting-started/intro_gemini_1_5_flash.ipynb\" target=\"_blank\">\n",
        "  <img width=\"20px\" src=\"https://upload.wikimedia.org/wikipedia/commons/7/7a/Bluesky_Logo.svg\" alt=\"Bluesky logo\">\n",
        "</a>\n",
        "\n",
        "<a href=\"https://twitter.com/intent/tweet?url=https%3A//github.com/GoogleCloudPlatform/generative-ai/blob/main/gemini/getting-started/intro_gemini_1_5_flash.ipynb\" target=\"_blank\">\n",
        "  <img width=\"20px\" src=\"https://upload.wikimedia.org/wikipedia/commons/5/53/X_logo_2023_original.svg\" alt=\"X logo\">\n",
        "</a>\n",
        "\n",
        "<a href=\"https://reddit.com/submit?url=https%3A//github.com/GoogleCloudPlatform/generative-ai/blob/main/gemini/getting-started/intro_gemini_1_5_flash.ipynb\" target=\"_blank\">\n",
        "  <img width=\"20px\" src=\"https://redditinc.com/hubfs/Reddit%20Inc/Brand/Reddit_Logo.png\" alt=\"Reddit logo\">\n",
        "</a>\n",
        "\n",
        "<a href=\"https://www.facebook.com/sharer/sharer.php?u=https%3A//github.com/GoogleCloudPlatform/generative-ai/blob/main/gemini/getting-started/intro_gemini_1_5_flash.ipynb\" target=\"_blank\">\n",
        "  <img width=\"20px\" src=\"https://upload.wikimedia.org/wikipedia/commons/5/51/Facebook_f_logo_%282019%29.svg\" alt=\"Facebook logo\">\n",
        "</a>            \n"
      ]
    },
    {
      "cell_type": "markdown",
      "metadata": {
        "id": "1EExYZvij2ve"
      },
      "source": [
        "| | |\n",
        "|-|-|\n",
        "| Author(s) |  [Wookjae Maeng](https://github.com/sociengineer)|"
      ]
    },
    {
      "cell_type": "markdown",
      "metadata": {
        "id": "t1DnOs6rkbOy"
      },
      "source": [
        "## 개요\n",
        "\n",
        "Gemini의 경우 [Google AI Studio](https://ai.google.dev/pricing?_gl=1*1l09a21*_up*MQ..*_ga*MTUxNTcxNzY5NS4xNzM1MjAyNjg1*_ga_P1DBVKWT6V*MTczNTIwMjY4NS4xLjAuMTczNTIwMjczMy4wLjAuNzY5MDY2MDAx#1_5flash)와 [Vertex AI](https://cloud.google.com/vertex-ai/generative-ai/pricing)에서 과금하는 체계가 다르다. Google AI Studio에서는 토큰당 과금을 하는 반면, Vertex AI에서는 글자수에 따라 과금을 한다. 이에 따라 과금 방식이 헷갈리는 사용자를 위해서 Gemini 모델에 입력으로 넣는 특정 프롬프트와 출력의 결과를 바탕으로 금액을 계산하는 코드 샘플이다."
      ]
    },
    {
      "cell_type": "markdown",
      "metadata": {
        "id": "61RBz8LLbxCR"
      },
      "source": [
        "## 시작하기"
      ]
    },
    {
      "cell_type": "markdown",
      "metadata": {
        "id": "No17Cw5hgx12"
      },
      "source": [
        "### Python용 Vertex AI SDK 설치하기\n"
      ]
    },
    {
      "cell_type": "code",
      "execution_count": 3,
      "metadata": {
        "id": "tFy3H3aPgx12"
      },
      "outputs": [],
      "source": [
        "%pip install --upgrade --user --quiet google-cloud-aiplatform"
      ]
    },
    {
      "cell_type": "markdown",
      "metadata": {
        "id": "DF4l8DTdWgPY"
      },
      "source": [
        "### Google Cloud 프로젝트 정보 설정과 Vertex AI SDK 초기화\n",
        "\n",
        "Vertex AI를 사용하려면 기존 Google Cloud 프로젝트가 있어야 하고 [Vertex AI API를 사용 설정해야 합니다](https://console.cloud.google.com/flows/enableapi?apiid=aiplatform.googleapis.com).\n",
        "\n",
        "[프로젝트와 개발 환경 설정](https://cloud.google.com/vertex-ai/docs/start/cloud-environment) 대해 자세히 알아보세요."
      ]
    },
    {
      "cell_type": "code",
      "execution_count": 4,
      "metadata": {
        "id": "Nqwi-5ufWp_B"
      },
      "outputs": [],
      "source": [
        "# 프로젝트 ID를 제공하지 않으면 환경 변수를 사용하세요\n",
        "import os\n",
        "\n",
        "import vertexai\n",
        "\n",
        "PROJECT_ID = \"[your-project-id]\"  # @param {type: \"string\", placeholder: \"[your-project-id]\", isTemplate: true}\n",
        "if not PROJECT_ID or PROJECT_ID == \"[your-project-id]\":\n",
        "    PROJECT_ID = str(os.environ.get(\"GOOGLE_CLOUD_PROJECT\"))\n",
        "\n",
        "LOCATION = os.environ.get(\"GOOGLE_CLOUD_REGION\", \"us-central1\")\n",
        "\n",
        "vertexai.init(project=PROJECT_ID, location=LOCATION)"
      ]
    },
    {
      "cell_type": "markdown",
      "metadata": {
        "id": "jXHfaVS66_01"
      },
      "source": [
        "### 라이브러리 가져오기\n"
      ]
    },
    {
      "cell_type": "code",
      "execution_count": 5,
      "metadata": {
        "id": "lslYAvw37JGQ"
      },
      "outputs": [],
      "source": [
        "import IPython.display\n",
        "from vertexai.generative_models import (\n",
        "    GenerativeModel,\n",
        "    Part,\n",
        ")"
      ]
    },
    {
      "cell_type": "markdown",
      "metadata": {
        "id": "BY1nfXrqRxVX"
      },
      "source": [
        "### Gemini 1.5 Flash 모델 가져오기\n",
        "\n",
        "[Vertex AI의 모든 Gemini 모델](https://cloud.google.com/vertex-ai/generative-ai/docs/learn/models#gemini-models)에 대해 자세히 알아보려면 여기를 클릭하세요."
      ]
    },
    {
      "cell_type": "code",
      "execution_count": 6,
      "metadata": {
        "id": "U7ExWmuLBdIA"
      },
      "outputs": [],
      "source": [
        "MODEL_ID = \"gemini-1.5-flash-002\"  # @param {type:\"string\"}\n",
        "# MODEL_ID = \"gemini-1.5-pro-002\"\n",
        "\n",
        "model = GenerativeModel(MODEL_ID)"
      ]
    },
    {
      "cell_type": "markdown",
      "metadata": {
        "id": "l9OKM0-4SQf8"
      },
      "source": [
        "### Vertex AI SDK 기본 사용법\n",
        "\n",
        "아래 내용은 Vertex AI SDK를 사용하여 Gemini 1.5 Flash 모델을 프롬프트하는 방법을 보여주는 간단한 예시입니다. [Gemini API 파라미터](https://cloud.google.com/vertex-ai/generative-ai/docs/model-reference/gemini#gemini-pro) 대해 자세히 알아보세요."
      ]
    },
    {
      "cell_type": "code",
      "execution_count": 7,
      "metadata": {
        "id": "FhFxrtfdSwOP",
        "colab": {
          "base_uri": "https://localhost:8080/"
        },
        "outputId": "2a8d570e-385d-403c-c032-cbc8114c48b9"
      },
      "outputs": [
        {
          "output_type": "stream",
          "name": "stdout",
          "text": [
            "\n",
            "응답:\n",
            "## Gemini 2.0 마케팅 문구\n",
            "\n",
            "**옵션 1:  생산성 및 효율성 강조**\n",
            "\n",
            "**1. 헤드라인 옵션:**\n",
            "\n",
            "* Gemini 2.0: 시간을 되찾고, 생산성을 극대화하세요.\n",
            "* 더 스마트하게, 더 빠르게: Gemini 2.0으로 업무 혁신.\n",
            "* Gemini 2.0:  복잡한 작업을 간단하게, 효율적으로.\n",
            "\n",
            "**2. 본문 옵션:**\n",
            "\n",
            "* (헤드라인 1에 해당)  지루하고 반복적인 작업에 시간을 낭비하지 마세요. Gemini 2.0은 AI 기반 자동화 기능으로 생산성을 획기적으로 높여 시간을 절약하고 더 중요한 일에 집중할 수 있도록 돕습니다.\n",
            "* (헤드라인 2에 해당) Gemini 2.0의 직관적인 인터페이스와 강력한 기능으로 업무 속도를 높이고 경쟁력을 강화하세요.  복잡한 프로젝트도 Gemini 2.0과 함께라면 쉽고 빠르게 처리할 수 있습니다.\n",
            "* (헤드라인 3에 해당)  데이터 분석부터 문서 작성까지, Gemini 2.0은 모든 업무 과정을 간소화합니다.  복잡한 문제 해결에 필요한 시간과 노력을 줄이고 효율적인 작업 흐름을 구축하세요.\n",
            "\n",
            "**3. 행동 유도:** 지금 Gemini 2.0 무료 체험판 신청하고 생산성 향상을 경험하세요!\n",
            "\n",
            "\n",
            "**옵션 2: 창의성 및 혁신 강조**\n",
            "\n",
            "**1. 헤드라인 옵션:**\n",
            "\n",
            "* Gemini 2.0: 당신의 상상력에 날개를 달아주세요.\n",
            "* 한계를 넘어서: Gemini 2.0으로 창의성의 새로운 지평을 열어보세요.\n",
            "* Gemini 2.0:  혁신적인 아이디어의 시작점.\n",
            "\n",
            "**2. 본문 옵션:**\n",
            "\n",
            "* (헤드라인 1에 해당)  창의적인 잠재력을 극대화하고,  상상 이상의 결과물을 만들어보세요.  Gemini 2.0은 당신의 아이디어를 현실로 바꾸는 강력한 도구입니다.\n",
            "* (헤드라인 2에 해당)  기존의 사고방식에서 벗어나, Gemini 2.0과 함께  새로운 가능성을 탐험하세요.  혁신적인 결과물을 창출하고 업계를 선도하는 기회를 잡으세요.\n",
            "* (헤드라인 3에 해당)  영감이 필요하세요? Gemini 2.0은  새로운 아이디어를 탐색하고,  독창적인 콘텐츠를 제작하는 데 필요한 모든 것을 제공합니다.\n",
            "\n",
            "**3. 행동 유도:**  지금 Gemini 2.0을 사용해보고 당신의 창의력을  발휘하세요!\n",
            "\n",
            "\n",
            "**옵션 3:  사용 편의성 및 접근성 강조**\n",
            "\n",
            "**1. 헤드라인 옵션:**\n",
            "\n",
            "* Gemini 2.0: 누구나 쉽게 사용할 수 있는 AI.\n",
            "* 복잡한 기술, 간단한 사용법: Gemini 2.0을 만나보세요.\n",
            "* Gemini 2.0: AI의 힘을 손쉽게 경험하세요.\n",
            "\n",
            "**2. 본문 옵션:**\n",
            "\n",
            "* (헤드라인 1에 해당)  AI 기술이 어렵다고 생각하셨나요? Gemini 2.0은 누구나 쉽고 직관적으로 사용할 수 있도록 설계되었습니다.  복잡한 설정이나 전문 지식 없이도 바로 사용 가능합니다.\n",
            "* (헤드라인 2에 해당)  강력한 기능을 갖춘 Gemini 2.0은 사용자 친화적인 인터페이스를 통해  누구든 쉽게 AI의 혜택을 누릴 수 있도록 합니다.  지금 바로 경험해보세요.\n",
            "* (헤드라인 3에 해당)  복잡한 AI 기술을 쉽게 이해하고 사용할 수 있도록 설계된 Gemini 2.0은  시간과 노력을 절약하고 효율성을 높여줍니다.\n",
            "\n",
            "**3. 행동 유도:**  지금 Gemini 2.0을 다운로드하고  AI의 편리함을 경험하세요!\n",
            "\n",
            "\n",
            "**소셜 미디어 게시물/광고용 주요 기능 및 이점 요약:**\n",
            "\n",
            "Gemini 2.0은  생산성 향상, 창의적인 아이디어 생성,  복잡한 문제 해결을 위한 차세대 AI입니다. 직관적인 인터페이스와 강력한 기능으로 시간을 절약하고 효율성을 높여줍니다. 경쟁 제품과 달리 Gemini 2.0은 사용자 친화적인 디자인과 다양한 기능을 통해 누구나 쉽게 AI의 힘을 활용할 수 있도록 합니다.  지금 바로 Gemini 2.0을 경험하고 미래를 앞서나가세요!\n",
            "\n"
          ]
        }
      ],
      "source": [
        "prompt = \"\"\"\n",
        "응답을 한국어로 작성하세요.\n",
        "\n",
        "Gemini 2.0을 홍보하기 위해 매력적인 마케팅 문구를 만드세요. Gemini 2.0의 다양한 측면을 강조하고 다양한 잠재 사용자를 타겟으로 하는 여러 가지 옵션을 생성하세요. 간결하고 유익한 것부터 매력적이고 열정적인 것까지 다양한 어조와 스타일을 탐구하세요.\n",
        "\n",
        "각 마케팅 카피 옵션에 대해 다음을 제공하세요.\n",
        "\n",
        "1. **헤드라인:** 최소 3개의 고유한 헤드라인 옵션을 제공합니다.\n",
        "2. **본문:** 헤드라인에 해당하는 최소 3개의 다른 본문 변형을 제공합니다.\n",
        "3. **행동 유도:** 명확하고 간결한 행동 유도를 포함합니다.\n",
        "\n",
        "또한 소셜 미디어 게시물이나 광고와 같은 짧은 형식의 홍보 자료에 사용하기에 적합한 Gemini 2.0의 주요 기능 및 이점에 대한 간략한 요약을 제공하세요. Gemini 2.0을 경쟁 제품과 차별화하는 요소와 사용자를 위해 어떤 문제를 해결하는지 고려하세요. Gemini 2.0에 대한 흥분과 관심을 불러일으키는 데 집중하세요.\n",
        "\n",
        "예:\n",
        "\n",
        "**헤드라인 옵션:**\n",
        "* Gemini 2.0으로 미래를 경험하세요\n",
        "* Gemini 2.0: 잠재력을 발휘하세요\n",
        "* Gemini 2.0으로 작업 흐름을 개선하세요\n",
        "\n",
        "**본문 옵션:**\n",
        "* (헤드라인 1에 해당) 창의적인 프로세스를 혁신하도록 설계된 최첨단 AI 모델인 Gemini 2.0으로 내일을 시작하세요. 혁신적인 아이디어 생성부터 매력적인 콘텐츠 제작에 이르기까지 Gemini 2.0을 통해 그 어느 때보다 더 많은 것을 성취할 수 있습니다.\n",
        "* (헤드라인 2에 해당) Gemini 2.0을 사용하여 창의적인 노력 내에서 아직 개발되지 않은 잠재력을 발견하세요. 이 고급 AI 모델은 잠재력을 최대한 발휘하고 비전을 실현하는 데 필요한 도구와 리소스를 제공합니다.\n",
        "* (헤드라인 3에 해당) Gemini 2.0으로 작업 흐름을 간소화하고 생산성을 높이세요. 이 지능형 AI 비서는 기존 도구에 원 seamlessly게 통합되어 작업을 자동화하고 가장 중요한 작업에 집중할 수 있도록 시간을 확보합니다.\n",
        "\n",
        "**행동 유도:** 지금 바로 웹사이트를 방문하여 Gemini 2.0의 위력을 경험하고 자세히 알아보세요!\n",
        "\n",
        "**주요 기능 및 이점 요약:** Gemini 2.0은 탁월한 창의적 기능, 원활한 워크플로우 통합 및 사용자 친화적인 인터페이스를 제공하는 차세대 AI입니다. Gemini 2.0으로 아이디어를 현실로 바꾸세요.\n",
        "\"\"\"\n",
        "\n",
        "# 모델에 전송할 내용 설정\n",
        "contents = [prompt]\n",
        "\n",
        "# 입력 토큰 수와 과금 글자 수 계산\n",
        "number_of_input_tokens = model.count_tokens(contents)\n",
        "# print(number_of_input_tokens)\n",
        "\n",
        "# 모델에 콘텐츠 생성을 요청\n",
        "response = model.generate_content(\n",
        "    contents\n",
        ")\n",
        "\n",
        "# Gemini 응답\n",
        "print(f\"\\n응답:\\n{response.text}\")\n",
        "\n",
        "# 출력 토큰 수와 과금 글자 수 계산\n",
        "number_of_output_tokens = model.count_tokens(response.text)\n",
        "# print(number_of_output_tokens)"
      ]
    },
    {
      "cell_type": "code",
      "source": [
        "## Vertex AI의 Gemini 가격 계산\n",
        "## 1. 입력 프롬프트 과금 글자 수: number_of_input_tokens.total_billable_characters\n",
        "## 1-1. 입력 텍스트 요금 128,000 토큰 이하 $0.00001875 / 1k characters, 이상 $0.0000375 / 1k characters\n",
        "input_price = 0.0\n",
        "\n",
        "if number_of_input_tokens.total_tokens <= 128000:\n",
        "  input_price = number_of_input_tokens.total_billable_characters / 1000 * 0.00001875\n",
        "else:\n",
        "  input_price = number_of_input_tokens.total_billable_characters / 1000 * 0.0000375\n",
        "\n",
        "\n",
        "## 2. 출력 결과 과금 글자 수: number_of_output_tokens.total_billable_characters\n",
        "## 2-2. 출력 텍스트 요금 128,000 토큰 이하 $0.000075 / 1k characters, 이상 $0.00015 / 1k characters\n",
        "\n",
        "output_price = 0.0\n",
        "\n",
        "if number_of_output_tokens.total_tokens <= 128000:\n",
        "  output_price = number_of_output_tokens.total_billable_characters / 1000 * 0.000075\n",
        "else:\n",
        "  output_price = number_of_output_tokens.total_billable_characters / 1000 * 0.00015\n",
        "\n",
        "total_price = input_price + output_price"
      ],
      "metadata": {
        "id": "p9e9fZ-slhwN"
      },
      "execution_count": 8,
      "outputs": []
    },
    {
      "cell_type": "code",
      "source": [
        "import requests\n",
        "\n",
        "def get_exchange_rate(base_currency, target_currency):\n",
        "  \"\"\"Fetches the latest exchange rate from the Frankfurter API.\n",
        "\n",
        "  Args:\n",
        "    base_currency: The base currency (e.g., 'USD').\n",
        "    target_currency: The target currency (e.g., 'KRW').\n",
        "\n",
        "  Returns:\n",
        "    The exchange rate as a float, or None if the request fails.\n",
        "  \"\"\"\n",
        "  url = f\"https://api.frankfurter.app/latest?from={base_currency}&to={target_currency}\"\n",
        "  try:\n",
        "    response = requests.get(url)\n",
        "    response.raise_for_status()  # Raise an exception for bad status codes\n",
        "    data = response.json()\n",
        "    return data['rates'][target_currency]\n",
        "  except requests.exceptions.RequestException as e:\n",
        "    print(f\"Error fetching exchange rate: {e}\")\n",
        "    return None\n",
        "\n",
        "if __name__ == \"__main__\":\n",
        "  print(\"입력한 프롬프트에 대한 Gemini 1.5 Flash 002 가격\")\n",
        "  print('$'+str(total_price))\n",
        "  usd_to_krw = get_exchange_rate('USD', 'KRW')\n",
        "  if usd_to_krw:\n",
        "    # print(f\"1 USD is equal to {usd_to_krw} KRW\")\n",
        "    print('￦'+str(total_price * usd_to_krw))"
      ],
      "metadata": {
        "colab": {
          "base_uri": "https://localhost:8080/"
        },
        "id": "BVOTPSL1n3L0",
        "outputId": "364a40ff-6129-403f-efba-801f890abe42"
      },
      "execution_count": 10,
      "outputs": [
        {
          "output_type": "stream",
          "name": "stdout",
          "text": [
            "입력한 프롬프트에 대한 Gemini 1.5 Flash 002 가격\n",
            "$0.00012399375\n",
            "￦0.182729589375\n"
          ]
        }
      ]
    }
  ],
  "metadata": {
    "colab": {
      "name": "intro_gemini_1_5_flash.ipynb",
      "provenance": []
    },
    "kernelspec": {
      "display_name": "Python 3",
      "name": "python3"
    }
  },
  "nbformat": 4,
  "nbformat_minor": 0
}